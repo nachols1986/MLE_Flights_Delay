{
  "metadata": {
    "kernelspec": {
      "name": "glue_pyspark",
      "display_name": "Glue PySpark",
      "language": "python"
    },
    "language_info": {
      "name": "Python_Glue_Session",
      "mimetype": "text/x-python",
      "codemirror_mode": {
        "name": "python",
        "version": 3
      },
      "pygments_lexer": "python3",
      "file_extension": ".py"
    },
    "colab": {
      "provenance": []
    }
  },
  "nbformat_minor": 0,
  "nbformat": 4,
  "cells": [
    {
      "cell_type": "markdown",
      "source": [
        "# Preprocessing Script: Glue Pipeline for Flights Dataset\n",
        "\n",
        "## Resumen del Script\n",
        "\n",
        "Este script implementa una pipeline de procesamiento de datos utilizando AWS Glue y PySpark para preparar un dataset de vuelos. Los datos se leen desde un bucket S3 y se transforman para análisis y modelado posterior. Finalmente, los datos procesados se guardan en formato Parquet dentro de una tabla en una base de datos Glue.\n",
        "\n",
        "---\n",
        "\n",
        "## Transformaciones Realizadas\n",
        "\n",
        "1. **Carga de Datos:**\n",
        "   - Se lee un archivo CSV ubicado en `s3://data-bucket-itba-delays/full_data_flightdelay.csv`.\n",
        "   - Se configura el esquema automáticamente (`inferSchema=True`).\n",
        "\n",
        "2. **Cálculo de la Estación del Año:**\n",
        "   - Se define una función `determinar_estacion` para asignar estaciones según la latitud y el mes.\n",
        "   - Resultado almacenado en la columna `SEASON`.\n",
        "\n",
        "3. **Conversión de Temperaturas:**\n",
        "   - Conversión de temperaturas máximas (`TMAX`) de Fahrenheit a Kelvin.\n",
        "   - Columna convertida renombrada a `TMAX_K` y la original eliminada.\n",
        "\n",
        "4. **Codificación de Horas de Salida:**\n",
        "   - La columna `DEP_TIME_BLK` se transforma a valores numéricos representativos de cada intervalo de tiempo.\n",
        "\n",
        "5. **Codificación de Variables Categóricas:**\n",
        "   - `CARRIER_NAME`, `DEPARTING_AIRPORT` y `PREVIOUS_AIRPORT` se codifican utilizando:\n",
        "     - `StringIndexer` para convertir texto a índices numéricos.\n",
        "     - `OneHotEncoder` para generar representaciones en formato one-hot encoding.\n",
        "\n",
        "6. **Escalamiento de Variables Numéricas:**\n",
        "   - Se ensamblan múltiples columnas numéricas relevantes en un vector usando `VectorAssembler`.\n",
        "   - Los valores son escalados con `StandardScaler` y almacenados en la columna `scaled_features`.\n",
        "\n",
        "7. **Pipeline de Transformación:**\n",
        "   - Se define una pipeline que incluye los siguientes pasos:\n",
        "     - Indexación y codificación one-hot de variables categóricas.\n",
        "     - Creación de vectores y escalado de características numéricas.\n",
        "\n",
        "8. **Expansión de Vectores:**\n",
        "   - Las columnas `scaled_features` y `CARRIER_NAME_onehot` se convierten en arrays.\n",
        "   - Cada elemento de los arrays se divide en columnas individuales para análisis granular.\n",
        "\n",
        "9. **Eliminación de Columnas Originales:**\n",
        "   - Se eliminan columnas intermedias y originales, incluyendo las versiones sin procesar de las variables transformadas.\n",
        "\n",
        "10. **Escritura del Dataset Procesado:**\n",
        "    - Se escribe el dataset final en formato Parquet en `s3://data-bucket-itba-delays/glue-flights/`.\n",
        "    - El dataset se guarda como una tabla en la base de datos `dwh` bajo el nombre `flights_dataset`.\n",
        "\n",
        "---\n",
        "\n",
        "## Estructura del Dataset Final\n",
        "\n",
        "El dataset procesado incluye:\n",
        "- Variables numéricas escaladas (`scaled_features_X`).\n",
        "- Codificación one-hot expandida de `CARRIER_NAME` (`carrier_name_one_hot_X`).\n",
        "- Columnas adicionales derivadas del procesamiento (e.g., `SEASON`, `DEP_TIME_BLK`).\n",
        "\n",
        "---\n",
        "\n",
        "## Uso\n",
        "\n",
        "El script está diseñado para ejecutarse en un entorno Glue, configurando automáticamente las versiones de Glue y el número de workers. Los datos procesados están listos para análisis en plataformas como Athena o para modelado en herramientas de machine learning.\n"
      ],
      "metadata": {
        "id": "MwSbkg04o9Z-"
      }
    },
    {
      "cell_type": "markdown",
      "source": [
        "# Glue Pipeline Flights"
      ],
      "metadata": {
        "editable": true,
        "trusted": true,
        "id": "gMAur-v4o4OL"
      }
    },
    {
      "cell_type": "markdown",
      "source": [
        "####  Run this cell to set up and start your interactive session.\n"
      ],
      "metadata": {
        "editable": true,
        "trusted": true,
        "id": "bauTKNsEo4ON"
      }
    },
    {
      "cell_type": "code",
      "source": [
        "%idle_timeout 2880\n",
        "%glue_version 4.0\n",
        "%worker_type G.1X\n",
        "%number_of_workers 5\n",
        "\n",
        "import sys\n",
        "from awsglue.transforms import *\n",
        "from awsglue.utils import getResolvedOptions\n",
        "from pyspark.context import SparkContext\n",
        "from awsglue.context import GlueContext\n",
        "from awsglue.job import Job\n",
        "\n",
        "sc = SparkContext.getOrCreate()\n",
        "glueContext = GlueContext(sc)\n",
        "spark = glueContext.spark_session\n",
        "job = Job(glueContext)"
      ],
      "metadata": {
        "trusted": true,
        "editable": true,
        "id": "Ur6mZ28po4ON",
        "outputId": "d5b20718-7187-45bf-e1d7-5aaec75902af"
      },
      "execution_count": null,
      "outputs": [
        {
          "name": "stdout",
          "text": "Welcome to the Glue Interactive Sessions Kernel\nFor more information on available magic commands, please type %help in any new cell.\n\nPlease view our Getting Started page to access the most up-to-date information on the Interactive Sessions kernel: https://docs.aws.amazon.com/glue/latest/dg/interactive-sessions.html\nInstalled kernel version: 1.0.7 \nCurrent idle_timeout is None minutes.\nidle_timeout has been set to 2880 minutes.\nSetting Glue version to: 4.0\nPrevious worker type: None\nSetting new worker type to: G.1X\nPrevious number of workers: None\nSetting new number of workers to: 5\nTrying to create a Glue session for the kernel.\nSession Type: glueetl\nWorker Type: G.1X\nNumber of Workers: 5\nIdle Timeout: 2880\nSession ID: 6d8d692e-d669-4ae6-8507-964941b600d2\nApplying the following default arguments:\n--glue_kernel_version 1.0.7\n--enable-glue-datacatalog true\nWaiting for session 6d8d692e-d669-4ae6-8507-964941b600d2 to get into ready status...\nSession 6d8d692e-d669-4ae6-8507-964941b600d2 has been created.\n\n",
          "output_type": "stream"
        }
      ]
    },
    {
      "cell_type": "markdown",
      "source": [
        "## Preprocessing\n"
      ],
      "metadata": {
        "editable": true,
        "trusted": true,
        "id": "kYauzdq1o4OP"
      }
    },
    {
      "cell_type": "code",
      "source": [
        "from pyspark.sql import functions as F\n",
        "from pyspark.ml.feature import OneHotEncoder, StringIndexer, VectorAssembler, StandardScaler\n",
        "from pyspark.ml import Pipeline\n",
        "from pyspark.sql.types import IntegerType, ArrayType, DoubleType\n",
        "from pyspark.ml.linalg import Vectors\n",
        "from pyspark.sql.functions import udf, col, size"
      ],
      "metadata": {
        "trusted": true,
        "tags": [],
        "id": "C8ry74UTo4OP",
        "outputId": "51a42c8b-b39b-4b49-c38b-e9c8856463b6"
      },
      "execution_count": null,
      "outputs": [
        {
          "name": "stdout",
          "text": "\n",
          "output_type": "stream"
        }
      ]
    },
    {
      "cell_type": "code",
      "source": [
        "df = spark.read.csv('s3://data-bucket-itba-delays/full_data_flightdelay.csv', header=True, inferSchema=True)"
      ],
      "metadata": {
        "trusted": true,
        "editable": true,
        "id": "z_v_JzIko4OP",
        "outputId": "efaae13f-eb5f-4dbb-a84f-2087ca665bb9"
      },
      "execution_count": null,
      "outputs": [
        {
          "name": "stdout",
          "text": "\n",
          "output_type": "stream"
        }
      ]
    },
    {
      "cell_type": "code",
      "source": [
        "def determinar_estacion(lat, mes):\n",
        "    if lat >= 0:\n",
        "        if mes in [6, 7, 8]:\n",
        "            return 1\n",
        "        elif mes in [9, 10, 11]:\n",
        "            return 2\n",
        "        elif mes in [12, 1, 2]:\n",
        "            return 3\n",
        "        else:\n",
        "            return 4\n",
        "    else:\n",
        "        if mes in [12, 1, 2]:\n",
        "            return 1\n",
        "        elif mes in [3, 4, 5]:\n",
        "            return 2\n",
        "        elif mes in [6, 7, 8]:\n",
        "            return 3\n",
        "        else:\n",
        "            return 4\n",
        "\n",
        "season_udf = udf(determinar_estacion, IntegerType())\n",
        "\n",
        "df = df.withColumn('SEASON', season_udf('LATITUDE', 'MONTH'))"
      ],
      "metadata": {
        "trusted": true,
        "tags": [],
        "id": "Ib1oRlojo4OP",
        "outputId": "94dc0d12-b2b0-46d0-b5cd-b433beb2bedb"
      },
      "execution_count": null,
      "outputs": [
        {
          "name": "stdout",
          "text": "\n",
          "output_type": "stream"
        }
      ]
    },
    {
      "cell_type": "code",
      "source": [
        "df = df.withColumn('TMAX_K', (df['TMAX'] - 32) * 5 / 9 + 273.15)\n",
        "\n",
        "df = df.drop('TMAX')"
      ],
      "metadata": {
        "trusted": true,
        "tags": [],
        "id": "Mx5SbnNWo4OQ",
        "outputId": "200dfc6e-6e07-4d4e-b142-eda2816b0684"
      },
      "execution_count": null,
      "outputs": [
        {
          "name": "stdout",
          "text": "\n",
          "output_type": "stream"
        }
      ]
    },
    {
      "cell_type": "code",
      "source": [
        "df = df.withColumn(\n",
        "    'DEP_TIME_BLK',\n",
        "    F.when(df['DEP_TIME_BLK'] == '0001-0559', 0)\n",
        "    .when(df['DEP_TIME_BLK'] == '0600-0659', 6)\n",
        "    .when(df['DEP_TIME_BLK'] == '0700-0759', 7)\n",
        "    .when(df['DEP_TIME_BLK'] == '0800-0859', 8)\n",
        "    .when(df['DEP_TIME_BLK'] == '0900-0959', 9)\n",
        "    .when(df['DEP_TIME_BLK'] == '1000-1059', 10)\n",
        "    .when(df['DEP_TIME_BLK'] == '1100-1159', 11)\n",
        "    .when(df['DEP_TIME_BLK'] == '1200-1259', 12)\n",
        "    .when(df['DEP_TIME_BLK'] == '1300-1359', 13)\n",
        "    .when(df['DEP_TIME_BLK'] == '1400-1459', 14)\n",
        "    .when(df['DEP_TIME_BLK'] == '1500-1559', 15)\n",
        "    .when(df['DEP_TIME_BLK'] == '1600-1659', 16)\n",
        "    .when(df['DEP_TIME_BLK'] == '1700-1759', 17)\n",
        "    .when(df['DEP_TIME_BLK'] == '1800-1859', 18)\n",
        "    .when(df['DEP_TIME_BLK'] == '1900-1959', 19)\n",
        "    .when(df['DEP_TIME_BLK'] == '2000-2059', 20)\n",
        "    .when(df['DEP_TIME_BLK'] == '2100-2159', 21)\n",
        "    .when(df['DEP_TIME_BLK'] == '2200-2259', 22)\n",
        "    .when(df['DEP_TIME_BLK'] == '2300-2359', 23)\n",
        "    .otherwise(-1)\n",
        ")"
      ],
      "metadata": {
        "trusted": true,
        "tags": [],
        "id": "dX0SZyJ3o4OQ",
        "outputId": "32d75865-1f66-47e6-f3a4-744faccd57cd"
      },
      "execution_count": null,
      "outputs": [
        {
          "name": "stdout",
          "text": "\n",
          "output_type": "stream"
        }
      ]
    },
    {
      "cell_type": "code",
      "source": [
        "indexer = StringIndexer(inputCol=\"CARRIER_NAME\", outputCol=\"CARRIER_NAME_index\")\n",
        "encoder = OneHotEncoder(inputCol=\"CARRIER_NAME_index\", outputCol=\"CARRIER_NAME_onehot\")\n",
        "\n",
        "airport_indexer1 = StringIndexer(inputCol=\"DEPARTING_AIRPORT\", outputCol=\"DEPARTING_AIRPORT_index\")\n",
        "airport_indexer2 = StringIndexer(inputCol=\"PREVIOUS_AIRPORT\", outputCol=\"PREVIOUS_AIRPORT_index\")\n",
        "\n",
        "numerical_columns_to_scale = [\n",
        "    'DISTANCE_GROUP', 'SEGMENT_NUMBER', 'CONCURRENT_FLIGHTS', 'NUMBER_OF_SEATS',\n",
        "    'AIRPORT_FLIGHTS_MONTH', 'AIRLINE_FLIGHTS_MONTH', 'AIRLINE_AIRPORT_FLIGHTS_MONTH',\n",
        "    'AVG_MONTHLY_PASS_AIRPORT', 'AVG_MONTHLY_PASS_AIRLINE', 'FLT_ATTENDANTS_PER_PASS',\n",
        "    'GROUND_SERV_PER_PASS', 'PLANE_AGE', 'LATITUDE', 'LONGITUDE', 'PRCP', 'SNOW',\n",
        "    'SNWD', 'TMAX_K', 'AWND', 'SEASON', 'DEP_TIME_BLK'\n",
        "]\n",
        "\n",
        "assembler = VectorAssembler(inputCols=numerical_columns_to_scale, outputCol=\"features\")\n",
        "\n",
        "scaler = StandardScaler(inputCol=\"features\", outputCol=\"scaled_features\")"
      ],
      "metadata": {
        "trusted": true,
        "tags": [],
        "id": "bMlZuNI5o4OQ",
        "outputId": "4081898d-5738-4087-f866-15606ba15f22"
      },
      "execution_count": null,
      "outputs": [
        {
          "name": "stdout",
          "text": "\n",
          "output_type": "stream"
        }
      ]
    },
    {
      "cell_type": "code",
      "source": [
        "pipeline = Pipeline(stages=[\n",
        "    indexer,\n",
        "    encoder,\n",
        "    airport_indexer1,\n",
        "    airport_indexer2,\n",
        "    assembler,\n",
        "    scaler\n",
        "])\n",
        "\n",
        "model = pipeline.fit(df)\n",
        "df_transformed = model.transform(df)"
      ],
      "metadata": {
        "trusted": true,
        "tags": [],
        "id": "hQbeP7hno4OQ",
        "outputId": "2e9c66f7-b6a3-46a6-c5a5-1a926cf7e569"
      },
      "execution_count": null,
      "outputs": [
        {
          "name": "stdout",
          "text": "\n",
          "output_type": "stream"
        }
      ]
    },
    {
      "cell_type": "code",
      "source": [
        "df_transformed = df_transformed.drop(\n",
        "    'CARRIER_NAME',\n",
        "    'DEPARTING_AIRPORT',\n",
        "    'PREVIOUS_AIRPORT',\n",
        "    'LATITUDE',\n",
        "    'LONGITUDE',\n",
        "    'SEASON',\n",
        "    'DEP_TIME_BLK',\n",
        "    'TMAX_K',\n",
        "    'DISTANCE_GROUP', 'SEGMENT_NUMBER', 'CONCURRENT_FLIGHTS', 'NUMBER_OF_SEATS',\n",
        "    'AIRPORT_FLIGHTS_MONTH', 'AIRLINE_FLIGHTS_MONTH', 'AIRLINE_AIRPORT_FLIGHTS_MONTH',\n",
        "    'AVG_MONTHLY_PASS_AIRPORT', 'AVG_MONTHLY_PASS_AIRLINE', 'FLT_ATTENDANTS_PER_PASS',\n",
        "    'GROUND_SERV_PER_PASS', 'PLANE_AGE', 'PRCP', 'SNOW', 'SNWD', 'AWND',\n",
        "    'CARRIER_NAME_index'\n",
        ")"
      ],
      "metadata": {
        "trusted": true,
        "tags": [],
        "id": "YrEJJ4TGo4OQ",
        "outputId": "e9aa5870-ebe7-4d17-d5a3-1fbaf471b2fb"
      },
      "execution_count": null,
      "outputs": [
        {
          "name": "stdout",
          "text": "\n",
          "output_type": "stream"
        }
      ]
    },
    {
      "cell_type": "code",
      "source": [
        "df_transformed.show()"
      ],
      "metadata": {
        "trusted": true,
        "tags": [],
        "id": "dTyAxXhgo4OR",
        "outputId": "48327478-5746-4808-bdac-edef69a42dd8"
      },
      "execution_count": null,
      "outputs": [
        {
          "name": "stdout",
          "text": "+-----+-----------+---------+-------------------+-----------------------+----------------------+--------------------+--------------------+\n|MONTH|DAY_OF_WEEK|DEP_DEL15|CARRIER_NAME_onehot|DEPARTING_AIRPORT_index|PREVIOUS_AIRPORT_index|            features|     scaled_features|\n+-----+-----------+---------+-------------------+-----------------------+----------------------+--------------------+--------------------+\n|    1|          7|        0|     (16,[0],[1.0])|                   10.0|                   0.0|[2.0,1.0,25.0,143...|[0.83954854654594...|\n|    1|          7|        0|     (16,[1],[1.0])|                   10.0|                   0.0|[7.0,1.0,29.0,191...|[2.93841991291081...|\n|    1|          7|        0|     (16,[1],[1.0])|                   10.0|                   0.0|[7.0,1.0,27.0,199...|[2.93841991291081...|\n|    1|          7|        0|     (16,[1],[1.0])|                   10.0|                   0.0|[9.0,1.0,27.0,180...|[3.77796845945676...|\n|    1|          7|        0|    (16,[11],[1.0])|                   10.0|                   0.0|[7.0,1.0,10.0,182...|[2.93841991291081...|\n|    1|          7|        0|    (16,[13],[1.0])|                   10.0|                   0.0|[3.0,1.0,10.0,180...|[1.25932281981892...|\n|    1|          7|        0|    (16,[13],[1.0])|                   10.0|                   0.0|[6.0,1.0,29.0,186...|[2.51864563963784...|\n|    1|          7|        1|    (16,[13],[1.0])|                   10.0|                   0.0|[7.0,1.0,10.0,186...|[2.93841991291081...|\n|    1|          7|        0|    (16,[13],[1.0])|                   10.0|                   0.0|[7.0,1.0,10.0,180...|[2.93841991291081...|\n|    1|          7|        0|    (16,[13],[1.0])|                   10.0|                   0.0|[8.0,1.0,27.0,186...|[3.35819418618378...|\n|    1|          7|        1|    (16,[13],[1.0])|                   10.0|                   0.0|[6.0,1.0,17.0,180...|[2.51864563963784...|\n|    1|          7|        0|     (16,[7],[1.0])|                   10.0|                   0.0|[1.0,1.0,27.0,149...|[0.41977427327297...|\n|    1|          7|        0|     (16,[7],[1.0])|                   10.0|                   0.0|[1.0,1.0,26.0,119...|[0.41977427327297...|\n|    1|          7|        0|     (16,[7],[1.0])|                   10.0|                   0.0|[2.0,1.0,27.0,146...|[0.83954854654594...|\n|    1|          7|        0|     (16,[7],[1.0])|                   10.0|                   0.0|[4.0,1.0,27.0,181...|[1.67909709309189...|\n|    1|          7|        1|     (16,[7],[1.0])|                   10.0|                   0.0|[4.0,1.0,29.0,181...|[1.67909709309189...|\n|    1|          7|        0|     (16,[7],[1.0])|                   10.0|                   0.0|[4.0,1.0,25.0,181...|[1.67909709309189...|\n|    1|          7|        0|    (16,[15],[1.0])|                   10.0|                   0.0|[11.0,1.0,10.0,29...|[4.61751700600270...|\n|    1|          7|        0|    (16,[15],[1.0])|                   10.0|                   0.0|[11.0,1.0,28.0,29...|[4.61751700600270...|\n|    1|          7|        0|     (16,[2],[1.0])|                   10.0|                   0.0|[1.0,1.0,29.0,181...|[0.41977427327297...|\n+-----+-----------+---------+-------------------+-----------------------+----------------------+--------------------+--------------------+\nonly showing top 20 rows\n",
          "output_type": "stream"
        }
      ]
    },
    {
      "cell_type": "code",
      "source": [
        "def vector_to_array(v):\n",
        "    return v.toArray().tolist() if v is not None else []\n",
        "\n",
        "vector_to_array_udf = udf(vector_to_array, ArrayType(DoubleType()))\n",
        "\n",
        "df_transformed = df_transformed.withColumn(\"carrier_name_onehot_array\", vector_to_array_udf(col(\"CARRIER_NAME_onehot\")))\n",
        "\n",
        "df_transformed = df_transformed.withColumn(\"carrier_size\", size(col(\"carrier_name_onehot_array\")))\n",
        "\n",
        "carrier_range = df_transformed.select(\"carrier_size\").distinct().collect()\n",
        "\n",
        "num_carrier_columns = carrier_range[0][\"carrier_size\"]\n",
        "\n",
        "df_transformed = df_transformed.withColumn(\"scaled_features_array\", vector_to_array_udf(col(\"scaled_features\")))\n",
        "\n",
        "df_transformed = df_transformed.withColumn(\"scaled_features_size\", size(col(\"scaled_features_array\")))\n",
        "\n",
        "scaled_features_range = df_transformed.select(\"scaled_features_size\").distinct().collect()\n",
        "\n",
        "num_scaled_features_columns = scaled_features_range[0][\"scaled_features_size\"]\n",
        "\n",
        "for i in range(num_carrier_columns):\n",
        "  df_transformed = df_transformed.withColumn(\n",
        "        f\"carrier_name_one_hot_{i+1}\",\n",
        "       col(\"carrier_name_onehot_array\")[i]\n",
        "   )\n",
        "\n",
        "for i in range(num_scaled_features_columns):\n",
        "  df_transformed = df_transformed.withColumn(\n",
        "        f\"scaled_features_{i+1}\",\n",
        "       col(\"scaled_features_array\")[i]\n",
        "   )\n",
        "\n",
        "df_transformed.show()"
      ],
      "metadata": {
        "trusted": true,
        "tags": [],
        "id": "7AqjIkDFo4OR",
        "outputId": "fe09a0d1-2241-4ae5-bfbe-77ba70bb8609"
      },
      "execution_count": null,
      "outputs": [
        {
          "name": "stdout",
          "text": "+-----+-----------+---------+-------------------+-----------------------+----------------------+--------------------+--------------------+-------------------------+------------+---------------------+--------------------+----------------------+----------------------+----------------------+----------------------+----------------------+----------------------+----------------------+----------------------+----------------------+-----------------------+-----------------------+-----------------------+-----------------------+-----------------------+-----------------------+-----------------------+------------------+-----------------+-------------------+------------------+------------------+-------------------+--------------------+------------------+------------------+-------------------+-------------------+------------------+------------------+------------------+------------------+------------------+------------------+------------------+------------------+------------------+------------------+\n|MONTH|DAY_OF_WEEK|DEP_DEL15|CARRIER_NAME_onehot|DEPARTING_AIRPORT_index|PREVIOUS_AIRPORT_index|            features|     scaled_features|carrier_name_onehot_array|carrier_size|scaled_features_array|scaled_features_size|carrier_name_one_hot_1|carrier_name_one_hot_2|carrier_name_one_hot_3|carrier_name_one_hot_4|carrier_name_one_hot_5|carrier_name_one_hot_6|carrier_name_one_hot_7|carrier_name_one_hot_8|carrier_name_one_hot_9|carrier_name_one_hot_10|carrier_name_one_hot_11|carrier_name_one_hot_12|carrier_name_one_hot_13|carrier_name_one_hot_14|carrier_name_one_hot_15|carrier_name_one_hot_16| scaled_features_1|scaled_features_2|  scaled_features_3| scaled_features_4| scaled_features_5|  scaled_features_6|   scaled_features_7| scaled_features_8| scaled_features_9| scaled_features_10| scaled_features_11|scaled_features_12|scaled_features_13|scaled_features_14|scaled_features_15|scaled_features_16|scaled_features_17|scaled_features_18|scaled_features_19|scaled_features_20|scaled_features_21|\n+-----+-----------+---------+-------------------+-----------------------+----------------------+--------------------+--------------------+-------------------------+------------+---------------------+--------------------+----------------------+----------------------+----------------------+----------------------+----------------------+----------------------+----------------------+----------------------+----------------------+-----------------------+-----------------------+-----------------------+-----------------------+-----------------------+-----------------------+-----------------------+------------------+-----------------+-------------------+------------------+------------------+-------------------+--------------------+------------------+------------------+-------------------+-------------------+------------------+------------------+------------------+------------------+------------------+------------------+------------------+------------------+------------------+------------------+\n|    1|          7|        0|     (16,[0],[1.0])|                   10.0|                   0.0|[2.0,1.0,25.0,143...|[0.83954854654594...|     [1.0, 0.0, 0.0, 0...|          16| [0.83954854654594...|                  21|                   1.0|                   0.0|                   0.0|                   0.0|                   0.0|                   0.0|                   0.0|                   0.0|                   0.0|                    0.0|                    0.0|                    0.0|                    0.0|                    0.0|                    0.0|                    0.0|0.8395485465459468|0.568872231391991| 1.1622177651567471|3.0784382262766217|1.4769571794288288|  3.122630588308525|  1.3815119688078685|1.6936038223772758| 2.651736298765852|  0.714704788670681|  2.126768915434675|1.1534513509279576|6.5590412772657105|-6.429653296833688|               0.0|               0.0|               0.0|28.587186473322717| 0.806629498496461| 2.646338330086425|1.5595024255513459|\n|    1|          7|        0|     (16,[1],[1.0])|                   10.0|                   0.0|[7.0,1.0,29.0,191...|[2.93841991291081...|     [0.0, 1.0, 0.0, 0...|          16| [2.93841991291081...|                  21|                   0.0|                   1.0|                   0.0|                   0.0|                   0.0|                   0.0|                   0.0|                   0.0|                   0.0|                    0.0|                    0.0|                    0.0|                    0.0|                    0.0|                    0.0|                    0.0|2.9384199129108137|0.568872231391991| 1.3481726075818266|  4.11176014838346|1.4769571794288288|  2.137964934711056| 0.27616125513033163|1.6936038223772758| 2.468887545337573| 1.6677259226780612|  3.197013982383032|0.4325442565979841|6.5590412772657105|-6.429653296833688|               0.0|               0.0|               0.0|28.587186473322717| 0.806629498496461| 2.646338330086425|1.3645646223574277|\n|    1|          7|        0|     (16,[1],[1.0])|                   10.0|                   0.0|[7.0,1.0,27.0,199...|[2.93841991291081...|     [0.0, 1.0, 0.0, 0...|          16| [2.93841991291081...|                  21|                   0.0|                   1.0|                   0.0|                   0.0|                   0.0|                   0.0|                   0.0|                   0.0|                   0.0|                    0.0|                    0.0|                    0.0|                    0.0|                    0.0|                    0.0|                    0.0|2.9384199129108137|0.568872231391991|  1.255195186369287| 4.283980468734599|1.4769571794288288|  2.137964934711056| 0.27616125513033163|1.6936038223772758| 2.468887545337573| 1.6677259226780612|  3.197013982383032|2.5952655395879045|6.5590412772657105|-6.429653296833688|               0.0|               0.0|               0.0|28.587186473322717| 0.806629498496461| 2.646338330086425|1.1696268191635095|\n|    1|          7|        0|     (16,[1],[1.0])|                   10.0|                   0.0|[9.0,1.0,27.0,180...|[3.77796845945676...|     [0.0, 1.0, 0.0, 0...|          16| [3.77796845945676...|                  21|                   0.0|                   1.0|                   0.0|                   0.0|                   0.0|                   0.0|                   0.0|                   0.0|                   0.0|                    0.0|                    0.0|                    0.0|                    0.0|                    0.0|                    0.0|                    0.0|3.7779684594567606|0.568872231391991|  1.255195186369287|3.8749572079006427|1.4769571794288288|  2.137964934711056| 0.27616125513033163|1.6936038223772758| 2.468887545337573| 1.6677259226780612|  3.197013982383032|0.2883628377319894|6.5590412772657105|-6.429653296833688|               0.0|               0.0|               0.0|28.587186473322717| 0.806629498496461| 2.646338330086425|1.1696268191635095|\n|    1|          7|        0|    (16,[11],[1.0])|                   10.0|                   0.0|[7.0,1.0,10.0,182...|[2.93841991291081...|     [0.0, 0.0, 0.0, 0...|          16| [2.93841991291081...|                  21|                   0.0|                   0.0|                   0.0|                   0.0|                   0.0|                   0.0|                   0.0|                   0.0|                   0.0|                    0.0|                    0.0|                    1.0|                    0.0|                    0.0|                    0.0|                    0.0|2.9384199129108137|0.568872231391991|0.46488710606269884| 3.918012287988428|1.4769571794288288|0.43694083928503274| 0.29568543245215234|1.6936038223772758|0.5327723612500662|0.10612259065088293|   2.68068535494424|0.1441814188659947|6.5590412772657105|-6.429653296833688|               0.0|               0.0|               0.0|28.587186473322717| 0.806629498496461| 2.646338330086425|               0.0|\n|    1|          7|        0|    (16,[13],[1.0])|                   10.0|                   0.0|[3.0,1.0,10.0,180...|[1.25932281981892...|     [0.0, 0.0, 0.0, 0...|          16| [1.25932281981892...|                  21|                   0.0|                   0.0|                   0.0|                   0.0|                   0.0|                   0.0|                   0.0|                   0.0|                   0.0|                    0.0|                    0.0|                    0.0|                    0.0|                    1.0|                    0.0|                    0.0|1.2593228198189201|0.568872231391991|0.46488710606269884|3.8749572079006427|1.4769571794288288| 0.2761891905645125| 0.13666924125274504|1.6936038223772758|0.3679741602488827| 1.3387263121656814|0.15343527805451884|0.7209070943299735|6.5590412772657105|-6.429653296833688|               0.0|               0.0|               0.0|28.587186473322717| 0.806629498496461| 2.646338330086425|               0.0|\n|    1|          7|        0|    (16,[13],[1.0])|                   10.0|                   0.0|[6.0,1.0,29.0,186...|[2.51864563963784...|     [0.0, 0.0, 0.0, 0...|          16| [2.51864563963784...|                  21|                   0.0|                   0.0|                   0.0|                   0.0|                   0.0|                   0.0|                   0.0|                   0.0|                   0.0|                    0.0|                    0.0|                    0.0|                    0.0|                    1.0|                    0.0|                    0.0|2.5186456396378403|0.568872231391991| 1.3481726075818266| 4.004122448163997|1.4769571794288288| 0.2761891905645125| 0.13666924125274504|1.6936038223772758|0.3679741602488827| 1.3387263121656814|0.15343527805451884|0.2883628377319894|6.5590412772657105|-6.429653296833688|               0.0|               0.0|               0.0|28.587186473322717| 0.806629498496461| 2.646338330086425|1.3645646223574277|\n|    1|          7|        1|    (16,[13],[1.0])|                   10.0|                   0.0|[7.0,1.0,10.0,186...|[2.93841991291081...|     [0.0, 0.0, 0.0, 0...|          16| [2.93841991291081...|                  21|                   0.0|                   0.0|                   0.0|                   0.0|                   0.0|                   0.0|                   0.0|                   0.0|                   0.0|                    0.0|                    0.0|                    0.0|                    0.0|                    1.0|                    0.0|                    0.0|2.9384199129108137|0.568872231391991|0.46488710606269884| 4.004122448163997|1.4769571794288288| 0.2761891905645125| 0.13666924125274504|1.6936038223772758|0.3679741602488827| 1.3387263121656814|0.15343527805451884|0.4325442565979841|6.5590412772657105|-6.429653296833688|               0.0|               0.0|               0.0|28.587186473322717| 0.806629498496461| 2.646338330086425|               0.0|\n|    1|          7|        0|    (16,[13],[1.0])|                   10.0|                   0.0|[7.0,1.0,10.0,180...|[2.93841991291081...|     [0.0, 0.0, 0.0, 0...|          16| [2.93841991291081...|                  21|                   0.0|                   0.0|                   0.0|                   0.0|                   0.0|                   0.0|                   0.0|                   0.0|                   0.0|                    0.0|                    0.0|                    0.0|                    0.0|                    1.0|                    0.0|                    0.0|2.9384199129108137|0.568872231391991|0.46488710606269884|3.8749572079006427|1.4769571794288288| 0.2761891905645125| 0.13666924125274504|1.6936038223772758|0.3679741602488827| 1.3387263121656814|0.15343527805451884|0.4325442565979841|6.5590412772657105|-6.429653296833688|               0.0|               0.0|               0.0|28.587186473322717| 0.806629498496461| 2.646338330086425|               0.0|\n|    1|          7|        0|    (16,[13],[1.0])|                   10.0|                   0.0|[8.0,1.0,27.0,186...|[3.35819418618378...|     [0.0, 0.0, 0.0, 0...|          16| [3.35819418618378...|                  21|                   0.0|                   0.0|                   0.0|                   0.0|                   0.0|                   0.0|                   0.0|                   0.0|                   0.0|                    0.0|                    0.0|                    0.0|                    0.0|                    1.0|                    0.0|                    0.0| 3.358194186183787|0.568872231391991|  1.255195186369287| 4.004122448163997|1.4769571794288288| 0.2761891905645125| 0.13666924125274504|1.6936038223772758|0.3679741602488827| 1.3387263121656814|0.15343527805451884|0.1441814188659947|6.5590412772657105|-6.429653296833688|               0.0|               0.0|               0.0|28.587186473322717| 0.806629498496461| 2.646338330086425|1.1696268191635095|\n|    1|          7|        1|    (16,[13],[1.0])|                   10.0|                   0.0|[6.0,1.0,17.0,180...|[2.51864563963784...|     [0.0, 0.0, 0.0, 0...|          16| [2.51864563963784...|                  21|                   0.0|                   0.0|                   0.0|                   0.0|                   0.0|                   0.0|                   0.0|                   0.0|                   0.0|                    0.0|                    0.0|                    0.0|                    0.0|                    1.0|                    0.0|                    0.0|2.5186456396378403|0.568872231391991| 0.7903080803065881|3.8749572079006427|1.4769571794288288| 0.2761891905645125| 0.13666924125274504|1.6936038223772758|0.3679741602488827| 1.3387263121656814|0.15343527805451884|0.4325442565979841|6.5590412772657105|-6.429653296833688|               0.0|               0.0|               0.0|28.587186473322717| 0.806629498496461| 2.646338330086425| 4.483569473460119|\n|    1|          7|        0|     (16,[7],[1.0])|                   10.0|                   0.0|[1.0,1.0,27.0,149...|[0.41977427327297...|     [0.0, 0.0, 0.0, 0...|          16| [0.41977427327297...|                  21|                   0.0|                   0.0|                   0.0|                   0.0|                   0.0|                   0.0|                   0.0|                   1.0|                   0.0|                    0.0|                    0.0|                    0.0|                    0.0|                    0.0|                    0.0|                    0.0|0.4197742732729734|0.568872231391991|  1.255195186369287|3.2076034665399766|1.4769571794288288| 0.5908575617436891| 0.16866066433428262|1.6936038223772758|0.5714790354784146|0.37401370356388774| 3.7548938625285944|0.4325442565979841|6.5590412772657105|-6.429653296833688|               0.0|               0.0|               0.0|28.587186473322717| 0.806629498496461| 2.646338330086425|1.1696268191635095|\n|    1|          7|        0|     (16,[7],[1.0])|                   10.0|                   0.0|[1.0,1.0,26.0,119...|[0.41977427327297...|     [0.0, 0.0, 0.0, 0...|          16| [0.41977427327297...|                  21|                   0.0|                   0.0|                   0.0|                   0.0|                   0.0|                   0.0|                   0.0|                   1.0|                   0.0|                    0.0|                    0.0|                    0.0|                    0.0|                    0.0|                    0.0|                    0.0|0.4197742732729734|0.568872231391991|  1.208706475763017|2.5617772652232027|1.4769571794288288| 0.5908575617436891| 0.16866066433428262|1.6936038223772758|0.5714790354784146|0.37401370356388774| 3.7548938625285944|1.7301770263919365|6.5590412772657105|-6.429653296833688|               0.0|               0.0|               0.0|28.587186473322717| 0.806629498496461| 2.646338330086425| 2.339253638327019|\n|    1|          7|        0|     (16,[7],[1.0])|                   10.0|                   0.0|[2.0,1.0,27.0,146...|[0.83954854654594...|     [0.0, 0.0, 0.0, 0...|          16| [0.83954854654594...|                  21|                   0.0|                   0.0|                   0.0|                   0.0|                   0.0|                   0.0|                   0.0|                   1.0|                   0.0|                    0.0|                    0.0|                    0.0|                    0.0|                    0.0|                    0.0|                    0.0|0.8395485465459468|0.568872231391991|  1.255195186369287|3.1430208464082994|1.4769571794288288| 0.5908575617436891| 0.16866066433428262|1.6936038223772758|0.5714790354784146|0.37401370356388774| 3.7548938625285944| 1.009269932061963|6.5590412772657105|-6.429653296833688|               0.0|               0.0|               0.0|28.587186473322717| 0.806629498496461| 2.646338330086425|1.1696268191635095|\n|    1|          7|        0|     (16,[7],[1.0])|                   10.0|                   0.0|[4.0,1.0,27.0,181...|[1.67909709309189...|     [0.0, 0.0, 0.0, 0...|          16| [1.67909709309189...|                  21|                   0.0|                   0.0|                   0.0|                   0.0|                   0.0|                   0.0|                   0.0|                   1.0|                   0.0|                    0.0|                    0.0|                    0.0|                    0.0|                    0.0|                    0.0|                    0.0|1.6790970930918936|0.568872231391991|  1.255195186369287|3.8964847479445353|1.4769571794288288| 0.5908575617436891| 0.16866066433428262|1.6936038223772758|0.5714790354784146|0.37401370356388774| 3.7548938625285944|0.2883628377319894|6.5590412772657105|-6.429653296833688|               0.0|               0.0|               0.0|28.587186473322717| 0.806629498496461| 2.646338330086425|1.1696268191635095|\n|    1|          7|        1|     (16,[7],[1.0])|                   10.0|                   0.0|[4.0,1.0,29.0,181...|[1.67909709309189...|     [0.0, 0.0, 0.0, 0...|          16| [1.67909709309189...|                  21|                   0.0|                   0.0|                   0.0|                   0.0|                   0.0|                   0.0|                   0.0|                   1.0|                   0.0|                    0.0|                    0.0|                    0.0|                    0.0|                    0.0|                    0.0|                    0.0|1.6790970930918936|0.568872231391991| 1.3481726075818266|3.8964847479445353|1.4769571794288288| 0.5908575617436891| 0.16866066433428262|1.6936038223772758|0.5714790354784146|0.37401370356388774| 3.7548938625285944|0.5767256754639788|6.5590412772657105|-6.429653296833688|               0.0|               0.0|               0.0|28.587186473322717| 0.806629498496461| 2.646338330086425|1.3645646223574277|\n|    1|          7|        0|     (16,[7],[1.0])|                   10.0|                   0.0|[4.0,1.0,25.0,181...|[1.67909709309189...|     [0.0, 0.0, 0.0, 0...|          16| [1.67909709309189...|                  21|                   0.0|                   0.0|                   0.0|                   0.0|                   0.0|                   0.0|                   0.0|                   1.0|                   0.0|                    0.0|                    0.0|                    0.0|                    0.0|                    0.0|                    0.0|                    0.0|1.6790970930918936|0.568872231391991| 1.1622177651567471|3.8964847479445353|1.4769571794288288| 0.5908575617436891| 0.16866066433428262|1.6936038223772758|0.5714790354784146|0.37401370356388774| 3.7548938625285944|0.5767256754639788|6.5590412772657105|-6.429653296833688|               0.0|               0.0|               0.0|28.587186473322717| 0.806629498496461| 2.646338330086425|1.5595024255513459|\n|    1|          7|        0|    (16,[15],[1.0])|                   10.0|                   0.0|[11.0,1.0,10.0,29...|[4.61751700600270...|     [0.0, 0.0, 0.0, 0...|          16| [4.61751700600270...|                  21|                   0.0|                   0.0|                   0.0|                   0.0|                   0.0|                   0.0|                   0.0|                   0.0|                   0.0|                    0.0|                    0.0|                    0.0|                    0.0|                    0.0|                    0.0|                    1.0| 4.617517006002707|0.568872231391991|0.46488710606269884| 6.329096772904383|1.4769571794288288|0.19751482657156744|0.018818484165610334|1.6936038223772758| 0.179514813482305| 1.3938896172284259|  4.254858689010113|0.8650885131959682|6.5590412772657105|-6.429653296833688|               0.0|               0.0|               0.0|28.587186473322717| 0.806629498496461| 2.646338330086425|               0.0|\n|    1|          7|        0|    (16,[15],[1.0])|                   10.0|                   0.0|[11.0,1.0,28.0,29...|[4.61751700600270...|     [0.0, 0.0, 0.0, 0...|          16| [4.61751700600270...|                  21|                   0.0|                   0.0|                   0.0|                   0.0|                   0.0|                   0.0|                   0.0|                   0.0|                   0.0|                    0.0|                    0.0|                    0.0|                    0.0|                    0.0|                    0.0|                    1.0| 4.617517006002707|0.568872231391991| 1.3016838969755566| 6.329096772904383|1.4769571794288288|0.19751482657156744|0.018818484165610334|1.6936038223772758| 0.179514813482305| 1.3938896172284259|  4.254858689010113|0.7209070943299735|6.5590412772657105|-6.429653296833688|               0.0|               0.0|               0.0|28.587186473322717| 0.806629498496461| 2.646338330086425| 1.754440228745264|\n|    1|          7|        0|     (16,[2],[1.0])|                   10.0|                   0.0|[1.0,1.0,29.0,181...|[0.41977427327297...|     [0.0, 0.0, 1.0, 0...|          16| [0.41977427327297...|                  21|                   0.0|                   0.0|                   1.0|                   0.0|                   0.0|                   0.0|                   0.0|                   0.0|                   0.0|                    0.0|                    0.0|                    0.0|                    0.0|                    0.0|                    0.0|                    0.0|0.4197742732729734|0.568872231391991| 1.3481726075818266|3.8964847479445353|1.4769571794288288| 2.1960763503332013| 0.27616125513033163|1.6936038223772758| 2.327099394971481| 1.1360837267729815|  3.812652723086923|0.7209070943299735|6.5590412772657105|-6.429653296833688|               0.0|               0.0|               0.0|28.587186473322717| 0.806629498496461| 2.646338330086425|1.3645646223574277|\n+-----+-----------+---------+-------------------+-----------------------+----------------------+--------------------+--------------------+-------------------------+------------+---------------------+--------------------+----------------------+----------------------+----------------------+----------------------+----------------------+----------------------+----------------------+----------------------+----------------------+-----------------------+-----------------------+-----------------------+-----------------------+-----------------------+-----------------------+-----------------------+------------------+-----------------+-------------------+------------------+------------------+-------------------+--------------------+------------------+------------------+-------------------+-------------------+------------------+------------------+------------------+------------------+------------------+------------------+------------------+------------------+------------------+------------------+\nonly showing top 20 rows\n",
          "output_type": "stream"
        }
      ]
    },
    {
      "cell_type": "markdown",
      "source": [
        "## Write"
      ],
      "metadata": {
        "editable": true,
        "trusted": true,
        "id": "721e5KLpo4OR"
      }
    },
    {
      "cell_type": "code",
      "source": [
        "spark.sql(\"CREATE DATABASE IF NOT EXISTS dwh\")"
      ],
      "metadata": {
        "trusted": true,
        "tags": [],
        "id": "sSJeYPVLo4OR",
        "outputId": "ee37fa30-a63f-4d0f-ebc5-babd1cd65f3e"
      },
      "execution_count": null,
      "outputs": [
        {
          "name": "stdout",
          "text": "DataFrame[]\n",
          "output_type": "stream"
        }
      ]
    },
    {
      "cell_type": "code",
      "source": [
        "df_transformed = df_transformed.drop(\"CARRIER_NAME_onehot\",\"features\",\"scaled_features\",\"carrier_name_onehot_array\",\"carrier_size\",\n",
        "                                     \"scaled_features_array\",\"scaled_features_size\")\n",
        "df_transformed.printSchema()"
      ],
      "metadata": {
        "trusted": true,
        "tags": [],
        "id": "WLjxLw1yo4OR",
        "outputId": "72ab8540-e2be-48f5-85d2-7caed28241c8"
      },
      "execution_count": null,
      "outputs": [
        {
          "name": "stdout",
          "text": "root\n |-- MONTH: integer (nullable = true)\n |-- DAY_OF_WEEK: integer (nullable = true)\n |-- DEP_DEL15: integer (nullable = true)\n |-- DEPARTING_AIRPORT_index: double (nullable = false)\n |-- PREVIOUS_AIRPORT_index: double (nullable = false)\n |-- carrier_name_one_hot_1: double (nullable = true)\n |-- carrier_name_one_hot_2: double (nullable = true)\n |-- carrier_name_one_hot_3: double (nullable = true)\n |-- carrier_name_one_hot_4: double (nullable = true)\n |-- carrier_name_one_hot_5: double (nullable = true)\n |-- carrier_name_one_hot_6: double (nullable = true)\n |-- carrier_name_one_hot_7: double (nullable = true)\n |-- carrier_name_one_hot_8: double (nullable = true)\n |-- carrier_name_one_hot_9: double (nullable = true)\n |-- carrier_name_one_hot_10: double (nullable = true)\n |-- carrier_name_one_hot_11: double (nullable = true)\n |-- carrier_name_one_hot_12: double (nullable = true)\n |-- carrier_name_one_hot_13: double (nullable = true)\n |-- carrier_name_one_hot_14: double (nullable = true)\n |-- carrier_name_one_hot_15: double (nullable = true)\n |-- carrier_name_one_hot_16: double (nullable = true)\n |-- scaled_features_1: double (nullable = true)\n |-- scaled_features_2: double (nullable = true)\n |-- scaled_features_3: double (nullable = true)\n |-- scaled_features_4: double (nullable = true)\n |-- scaled_features_5: double (nullable = true)\n |-- scaled_features_6: double (nullable = true)\n |-- scaled_features_7: double (nullable = true)\n |-- scaled_features_8: double (nullable = true)\n |-- scaled_features_9: double (nullable = true)\n |-- scaled_features_10: double (nullable = true)\n |-- scaled_features_11: double (nullable = true)\n |-- scaled_features_12: double (nullable = true)\n |-- scaled_features_13: double (nullable = true)\n |-- scaled_features_14: double (nullable = true)\n |-- scaled_features_15: double (nullable = true)\n |-- scaled_features_16: double (nullable = true)\n |-- scaled_features_17: double (nullable = true)\n |-- scaled_features_18: double (nullable = true)\n |-- scaled_features_19: double (nullable = true)\n |-- scaled_features_20: double (nullable = true)\n |-- scaled_features_21: double (nullable = true)\n",
          "output_type": "stream"
        }
      ]
    },
    {
      "cell_type": "code",
      "source": [
        "df_transformed.write \\\n",
        "    .format(\"parquet\") \\\n",
        "    .mode(\"overwrite\") \\\n",
        "    .option(\"path\", \"s3://data-bucket-itba-delays/glue-flights/\") \\\n",
        "    .saveAsTable(\"dwh.flights_dataset\")"
      ],
      "metadata": {
        "trusted": true,
        "editable": true,
        "id": "0DlnYIoXo4OR",
        "outputId": "3d1a6f11-27da-4372-a6ac-316d5821f8ea"
      },
      "execution_count": null,
      "outputs": [
        {
          "name": "stdout",
          "text": "\n",
          "output_type": "stream"
        }
      ]
    },
    {
      "cell_type": "code",
      "source": [],
      "metadata": {
        "id": "4RPCSPyTo4OR"
      },
      "execution_count": null,
      "outputs": []
    }
  ]
}